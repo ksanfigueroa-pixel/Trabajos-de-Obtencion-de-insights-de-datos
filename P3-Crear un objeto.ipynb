{
 "cells": [
  {
   "cell_type": "code",
   "execution_count": null,
   "id": "4083d553",
   "metadata": {},
   "outputs": [
    {
     "name": "stdout",
     "output_type": "stream",
     "text": [
      "\n",
      "El área del triángulo con base 12.0 y altura 2.0 es: 12.00\n"
     ]
    }
   ],
   "source": [
    "# Calcular el area de un triangulo\n",
    "class Triangulo:\n",
    "    def datos (self):\n",
    "        self.base = 0\n",
    "        self.altura = 0\n",
    "        self.area = 0\n",
    "\n",
    "    # Leer los datos de entrada\n",
    "    def leer_datos(self):\n",
    "        try:\n",
    "            self.base = float(input(\"Ingresar la base del triángulo: \"))\n",
    "            self.altura = float(input(\"Ingresar la altura del triángulo: \"))\n",
    "        except ValueError:\n",
    "            print(\"Error: ingrese solo números.\")\n",
    "            self.leer_datos()  \n",
    "\n",
    "    # Calcular el área\n",
    "    def calcular_area(self):\n",
    "        self.area = (self.base * self.altura) / 2\n",
    "\n",
    "    # Imprimir resultados\n",
    "    def imprimir_resultado(self):\n",
    "        print(f\"\\nEl área del triángulo con base {self.base} y altura {self.altura} es: {self.area:.2f}\")\n",
    "\n",
    "# Programa principal\n",
    "if __name__ == \"__main__\":\n",
    "    triangulo = Triangulo()\n",
    "    triangulo.leer_datos()\n",
    "    triangulo.calcular_area()\n",
    "    triangulo.imprimir_resultado()"
   ]
  }
 ],
 "metadata": {
  "kernelspec": {
   "display_name": "Python 3",
   "language": "python",
   "name": "python3"
  },
  "language_info": {
   "codemirror_mode": {
    "name": "ipython",
    "version": 3
   },
   "file_extension": ".py",
   "mimetype": "text/x-python",
   "name": "python",
   "nbconvert_exporter": "python",
   "pygments_lexer": "ipython3",
   "version": "3.11.9"
  }
 },
 "nbformat": 4,
 "nbformat_minor": 5
}
