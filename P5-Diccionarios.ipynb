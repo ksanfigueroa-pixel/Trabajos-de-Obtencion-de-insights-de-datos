{
 "cells": [
  {
   "cell_type": "code",
   "execution_count": 1,
   "id": "8c639dc9",
   "metadata": {},
   "outputs": [
    {
     "name": "stdout",
     "output_type": "stream",
     "text": [
      "{'Nombre': 'Elena Valiente', 'Matricula': 23689910, 'Edad': 16, 'Peso': 68, 'Telefono': -5845, 'Domicilio': 'Calle: La que sea, Col: Cualquiera, Num: 167 A', 'Carrera': 'Informatica'}\n"
     ]
    }
   ],
   "source": [
    "# Diccionario de datos personales\n",
    "\n",
    "alumno ={\n",
    "    'Nombre': 'Elena Valiente',\n",
    "    'Matricula': 23689915-5,\n",
    "    'Edad': 16,\n",
    "    'Peso': 68,\n",
    "    'Telefono':311-478-5678,\n",
    "    'Domicilio': 'Calle: La que sea, Col: Cualquiera, Num: 167 A',\n",
    "    'Carrera': 'Informatica'\n",
    "}\n",
    "print(alumno)"
   ]
  }
 ],
 "metadata": {
  "kernelspec": {
   "display_name": "Python 3",
   "language": "python",
   "name": "python3"
  },
  "language_info": {
   "codemirror_mode": {
    "name": "ipython",
    "version": 3
   },
   "file_extension": ".py",
   "mimetype": "text/x-python",
   "name": "python",
   "nbconvert_exporter": "python",
   "pygments_lexer": "ipython3",
   "version": "3.11.9"
  }
 },
 "nbformat": 4,
 "nbformat_minor": 5
}
