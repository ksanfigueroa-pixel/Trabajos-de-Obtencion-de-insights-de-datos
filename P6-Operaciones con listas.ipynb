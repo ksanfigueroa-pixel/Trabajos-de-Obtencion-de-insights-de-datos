{
 "cells": [
  {
   "cell_type": "code",
   "execution_count": 9,
   "id": "5f03c8bb",
   "metadata": {},
   "outputs": [],
   "source": [
    "# Realiza programas utilizando listas, realizando operaciones sobre las mismas.\n",
    "# En la estación metereología de la ciudad de Tepic Nayarit, almacenaron en una lista las temperaturas del día de hoy.\n",
    "# temp= [80, 72, 95, 82, 79, 72, 85]\n",
    "# El administrador se dio cuenta que las temperaturas estaban en grados Fahrenheit, elabore un programa en Python que convierta las temperaturas de la lista de grados FAHRENHEIT A CENTIGRADOS."
   ]
  },
  {
   "cell_type": "code",
   "execution_count": 10,
   "id": "24ae869f",
   "metadata": {},
   "outputs": [
    {
     "name": "stdout",
     "output_type": "stream",
     "text": [
      "Temperaturas en Fahrenheit: [80, 72, 95, 82, 79, 72, 85]\n",
      "Temperaturas en Centígrados: [26.67, 22.22, 35.0, 27.78, 26.11, 22.22, 29.44]\n"
     ]
    }
   ],
   "source": [
    "class EstacionMeteorologica:\n",
    "    def __init__(self, temperaturas_f):\n",
    "        self.temperaturas_f = temperaturas_f\n",
    "        self.temperaturas_c = []\n",
    "    def convertir_a_centigrados(self):\n",
    "        self.temperaturas_c = [(f - 32) * 5/9 for f in self.temperaturas_f]\n",
    "    def mostrar_resultados(self):\n",
    "        print(\"Temperaturas en Fahrenheit:\", self.temperaturas_f)\n",
    "        print(\"Temperaturas en Centígrados:\", [round(c, 2) for c in self.temperaturas_c])\n",
    "def main():\n",
    "    temp = [80, 72, 95, 82, 79, 72, 85]\n",
    "    estacion = EstacionMeteorologica(temp)\n",
    "    estacion.convertir_a_centigrados()\n",
    "    estacion.mostrar_resultados()\n",
    "if __name__ == \"__main__\":\n",
    "    main()"
   ]
  }
 ],
 "metadata": {
  "kernelspec": {
   "display_name": "Python 3",
   "language": "python",
   "name": "python3"
  },
  "language_info": {
   "codemirror_mode": {
    "name": "ipython",
    "version": 3
   },
   "file_extension": ".py",
   "mimetype": "text/x-python",
   "name": "python",
   "nbconvert_exporter": "python",
   "pygments_lexer": "ipython3",
   "version": "3.11.9"
  }
 },
 "nbformat": 4,
 "nbformat_minor": 5
}
