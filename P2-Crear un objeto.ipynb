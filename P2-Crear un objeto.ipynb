{
 "cells": [
  {
   "cell_type": "code",
   "execution_count": 1,
   "metadata": {},
   "outputs": [
    {
     "name": "stdout",
     "output_type": "stream",
     "text": [
      "Alumno: Matias Gracielo Barbaro  Edad: 17  Peso: 65  Promedio: 9\n",
      "El alumno Matias Gracielo Barbaro esta inscrito\n",
      "El alumno Matias Gracielo Barbaro esta en asesorias\n"
     ]
    }
   ],
   "source": [
    "\n",
    "# Creación de clases y propiedades.\n",
    "class ALUMNO():\n",
    "    nombre = \"Matias Gracielo Barbaro\"\n",
    "    edad = 17\n",
    "    peso = 65\n",
    "    promedio = 9\n",
    "    inscripcion = False\n",
    "    asesorias = False\n",
    "\n",
    "    # Metodos: INSCRIPSIÓN y ASESORIAS.\n",
    "    def inscrito(self):\n",
    "        self.inscripcion = True\n",
    "    def inscrito1(self):\n",
    "        if (self.inscripcion):\n",
    "            return f\"El alumno {self.nombre} esta inscrito\"\n",
    "    def asesorado(self):\n",
    "        self.asesorias = True\n",
    "    def asesorado1(self):\n",
    "        if (self.asesorias):\n",
    "            return f\"El alumno {self.nombre} esta en asesorias\"\n",
    "unALUMNO = ALUMNO()\n",
    "print(\"Alumno:\", unALUMNO.nombre, \n",
    "      \" Edad:\", unALUMNO.edad, \n",
    "      \" Peso:\", unALUMNO.peso, \n",
    "      \" Promedio:\", unALUMNO.promedio)\n",
    "unALUMNO.inscrito()\n",
    "print(unALUMNO.inscrito1())\n",
    "unALUMNO.asesorado()\n",
    "print(unALUMNO.asesorado1())"
   ]
  }
 ],
 "metadata": {
  "kernelspec": {
   "display_name": "Python 3",
   "language": "python",
   "name": "python3"
  },
  "language_info": {
   "codemirror_mode": {
    "name": "ipython",
    "version": 3
   },
   "file_extension": ".py",
   "mimetype": "text/x-python",
   "name": "python",
   "nbconvert_exporter": "python",
   "pygments_lexer": "ipython3",
   "version": "3.11.9"
  }
 },
 "nbformat": 4,
 "nbformat_minor": 2
}
