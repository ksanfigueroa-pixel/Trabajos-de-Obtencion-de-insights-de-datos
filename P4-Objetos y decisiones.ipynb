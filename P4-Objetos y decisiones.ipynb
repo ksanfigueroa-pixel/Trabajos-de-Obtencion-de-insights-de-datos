{
 "cells": [
  {
   "cell_type": "code",
   "execution_count": 3,
   "id": "280e1826",
   "metadata": {},
   "outputs": [
    {
     "name": "stdout",
     "output_type": "stream",
     "text": [
      "Ingrese los datos de 10 alumnos:\n",
      "\n",
      "\n",
      "RESULTADOS:\n",
      "Promedio grupal: 8.70\n",
      "Alumnos destacados (calificación > 9.5):\n",
      " - a\n",
      " - Thella\n",
      " - Katia\n"
     ]
    }
   ],
   "source": [
    "class Grupo:\n",
    "    def __init__(self):\n",
    "        self.alumnos = []  \n",
    "        self.promedio_grupal = 0\n",
    "        self.destacados = []\n",
    "\n",
    "    # Método para leer datos\n",
    "    def leer_datos(self):\n",
    "        print(\"Ingrese los datos de 10 alumnos:\\n\")\n",
    "        for i in range(10):\n",
    "            nombre = input(f\"Ingrese el nombre del alumno {i+1}: \")\n",
    "            while True:\n",
    "                try:\n",
    "                    calificacion = float(input(f\"Ingrese la calificación de {nombre}: \"))\n",
    "                    if 0 <= calificacion <= 10:\n",
    "                        break\n",
    "                    else:\n",
    "                        print(\"La calificación debe estar entre 0 y 10.\")\n",
    "                except ValueError:\n",
    "                    print(\"Error: ingrese un número válido.\")\n",
    "            self.alumnos.append((nombre, calificacion))\n",
    "\n",
    "    # Método para procesar datos\n",
    "    def realizar_proceso(self):\n",
    "        if not self.alumnos:\n",
    "            print(\"No hay datos de alumnos.\")\n",
    "            return\n",
    "        \n",
    "        total = sum(calificacion for _, calificacion in self.alumnos)\n",
    "        self.promedio_grupal = total / len(self.alumnos)\n",
    "        \n",
    "        # Filtrar alumnos con promedio mayor a 9.5\n",
    "        self.destacados = [nombre for nombre, calificacion in self.alumnos if calificacion > 9.5]\n",
    "\n",
    "    # Método para imprimir resultados\n",
    "    def imprimir_resultados(self):\n",
    "        print(\"\\nRESULTADOS:\")\n",
    "        print(f\"Promedio grupal: {self.promedio_grupal:.2f}\")\n",
    "        if self.destacados:\n",
    "            print(\"Alumnos destacados (calificación > 9.5):\")\n",
    "            for alumno in self.destacados:\n",
    "                print(f\" - {alumno}\")\n",
    "        else:\n",
    "            print(\"Ningún alumno obtuvo calificación mayor a 9.5.\")\n",
    "\n",
    "\n",
    "# Ejecución del programa\n",
    "def main():\n",
    "    grupo = Grupo()\n",
    "    grupo.leer_datos()\n",
    "    grupo.realizar_proceso()\n",
    "    grupo.imprimir_resultados()\n",
    "\n",
    "main()\n"
   ]
  }
 ],
 "metadata": {
  "kernelspec": {
   "display_name": "Python 3",
   "language": "python",
   "name": "python3"
  },
  "language_info": {
   "name": "python",
   "version": "3.11.9"
  }
 },
 "nbformat": 4,
 "nbformat_minor": 5
}
